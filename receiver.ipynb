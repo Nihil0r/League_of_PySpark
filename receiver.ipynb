{
 "cells": [
  {
   "cell_type": "code",
   "execution_count": null,
   "metadata": {
    "vscode": {
     "languageId": "plaintext"
    }
   },
   "outputs": [],
   "source": [
    "import socket\n",
    "import time\n",
    "import csv\n",
    "\n",
    "def send_data(host, port, csv_file):\n",
    "    s = socket.socket(socket.AF_INET, socket.SOCK_STREAM)\n",
    "    s.bind((host, port))\n",
    "    s.listen(1)\n",
    "    print(f\"Waiting for connection on port {port}\")\n",
    "    conn, addr = s.accept()\n",
    "    print(f\"Connected by {addr}\")\n",
    "    \n",
    "    with open(csv_file, 'r') as file:\n",
    "        csv_reader = csv.reader(file)\n",
    "        for row in csv_reader:\n",
    "            data = ','.join(row) + '\\n'\n",
    "            conn.send(data.encode())\n",
    "            time.sleep(0.1)  # Simulate real-time data flow\n",
    "    \n",
    "    conn.close()\n",
    "\n",
    "if __name__ == \"__main__\":\n",
    "    send_data(\"localhost\", 9999, \"your_league_of_legends_data.csv\")"
   ]
  }
 ],
 "metadata": {
  "language_info": {
   "name": "python"
  }
 },
 "nbformat": 4,
 "nbformat_minor": 2
}
